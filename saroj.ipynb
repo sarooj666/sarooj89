{
 "cells": [
  {
   "cell_type": "code",
   "execution_count": 1,
   "id": "9343b224",
   "metadata": {},
   "outputs": [
    {
     "name": "stdout",
     "output_type": "stream",
     "text": [
      "first guess: 2\n",
      "second guess: 3\n",
      "tolerance: 0.10\n",
      "iteration 1, x2 = 2.500000 and f(x2)= -5.875000\n",
      "iteration 2, x2 = 2.750000 and f(x2)= -1.953125\n",
      "iteration 3, x2 = 2.875000 and f(x2)= 0.388672\n",
      "iteration 4, x2 = 2.812500 and f(x2)= -0.815186\n",
      "iteration 5, x2 = 2.843750 and f(x2)= -0.221588\n",
      "iteration 6, x2 = 2.859375 and f(x2)= 0.081448\n",
      "root is :2.85937500 \n"
     ]
    }
   ],
   "source": [
    "#defining bisection method \n",
    "#no.of iteration \n",
    "#condition statement which is true and be executed\n",
    "# guess1 = 2, guess2 = 3\n",
    "from math import sin\n",
    "def bisection(x0,x1,e): \n",
    "    step = 1\n",
    "    condition = True\n",
    "    while condition:\n",
    "        x2 = (x0+x1)/2\n",
    "        print('iteration %d, x2 = %0.6f and f(x2)= %0.6f' %(step,x2,f(x2)))\n",
    "        \n",
    "        if f(x0) * f(x2) < 0:\n",
    "            x1 = x2\n",
    "        else:\n",
    "            x0 = x2\n",
    "        step = step +1\n",
    "        condition = abs(f(x2)) > e\n",
    "    print('root is :%0.8f '%x2)\n",
    "#    return x2\n",
    "\n",
    "def f(x):\n",
    "    return x**3-5*x-9\n",
    "\n",
    "x0 = float(input('first guess: '))\n",
    "x1 = float(input('second guess: '))\n",
    "e  = float(input('tolerance: '))\n",
    "\n",
    "if f(x0) * f(x1) > 0.0:\n",
    "    print('given guess values do not bracket the root')\n",
    "else:\n",
    "    root = bisection(x0,x1,e)"
   ]
  },
  {
   "cell_type": "code",
   "execution_count": 2,
   "id": "65499518",
   "metadata": {},
   "outputs": [
    {
     "name": "stdout",
     "output_type": "stream",
     "text": [
      "first guess: 2\n",
      "second guess: 3\n",
      "tolerance: 0.10\n",
      "iteration 1, x2 = 2.500000 and f(x2)= -5.875000\n",
      "iteration 2, x2 = 2.750000 and f(x2)= -1.953125\n",
      "iteration 3, x2 = 2.875000 and f(x2)= 0.388672\n",
      "iteration 4, x2 = 2.812500 and f(x2)= -0.815186\n",
      "iteration 5, x2 = 2.843750 and f(x2)= -0.221588\n",
      "iteration 6, x2 = 2.859375 and f(x2)= 0.081448\n",
      "root is :2.85937500 \n"
     ]
    }
   ],
   "source": [
    "# guess1 = 2, guess2 = 3\n",
    "from math import sin\n",
    "def bisection(x0,x1,e): \n",
    "    step = 1\n",
    "    condition = True\n",
    "    while condition:\n",
    "        x2 = (x0+x1)/2\n",
    "        print('iteration %d, x2 = %0.6f and f(x2)= %0.6f' %(step,x2,f(x2)))\n",
    "        \n",
    "        if f(x0) * f(x2) < 0:\n",
    "            x1 = x2\n",
    "        else:\n",
    "            x0 = x2\n",
    "        step = step +1\n",
    "        condition = abs(f(x2)) > e\n",
    "    print('root is :%0.8f '%x2)\n",
    "#    return x2\n",
    "\n",
    "def f(x):\n",
    "    return 2x*3-9.5x+7.5=0\n",
    "\n",
    "x0 = float(input('first guess: '))\n",
    "x1 = float(input('second guess: '))\n",
    "e  = float(input('tolerance: '))\n",
    "\n",
    "if f(x0) * f(x1) > 0.0:\n",
    "    print('given guess values do not bracket the root')\n",
    "else:\n",
    "    root = bisection(x0,x1,e)\n",
    "    "
   ]
  },
  {
   "cell_type": "code",
   "execution_count": 13,
   "id": "055aa0b2",
   "metadata": {},
   "outputs": [
    {
     "name": "stdout",
     "output_type": "stream",
     "text": [
      "first guess: 2\n",
      "second guess: 3\n",
      "tolerance: 0.10\n",
      "iteration 1, x2 = 2.500000 and f(x2)= -5.875000\n",
      "iteration 2, x2 = 2.750000 and f(x2)= -1.953125\n",
      "iteration 3, x2 = 2.875000 and f(x2)= 0.388672\n",
      "iteration 4, x2 = 2.812500 and f(x2)= -0.815186\n",
      "iteration 5, x2 = 2.843750 and f(x2)= -0.221588\n",
      "iteration 6, x2 = 2.859375 and f(x2)= 0.081448\n",
      "root is :2.85937500 \n"
     ]
    }
   ],
   "source": [
    "# guess1 = 2, guess2 = 3\n",
    "from math import sin\n",
    "def bisection(x0,x1,e): \n",
    "    step = 1\n",
    "    condition = True\n",
    "    while condition:\n",
    "        x2 = (x0+x1)/2\n",
    "        print('iteration %d, x2 = %0.6f and f(x2)= %0.6f' %(step,x2,f(x2)))\n",
    "        \n",
    "        if f(x0) * f(x2) < 0:\n",
    "            x1 = x2\n",
    "        else:\n",
    "            x0 = x2\n",
    "        step = step +1\n",
    "        condition = abs(f(x2)) > e\n",
    "    print('root is :%0.8f '%x2)\n",
    "#    return x2\n",
    "\n",
    "def f(x):\n",
    "    return x*2-sin*2(x)-4x+1=0\n",
    "\n",
    "x0 = float(input('first guess: '))\n",
    "x1 = float(input('second guess: '))\n",
    "e  = float(input('tolerance: '))\n",
    "\n",
    "if f(x0) * f(x1) > 0.0:\n",
    "    print('given guess values do not bracket the root')\n",
    "else:\n",
    "    root = bisection(x0,x1,e)"
   ]
  },
  {
   "cell_type": "code",
   "execution_count": 16,
   "id": "d92b38cc",
   "metadata": {},
   "outputs": [
    {
     "name": "stdout",
     "output_type": "stream",
     "text": [
      "first guess: 2\n",
      "second guess: 3\n",
      "tolerance: 0.10\n",
      "iteration 1, x2 = 2.500000 and f(x2)= -5.875000\n",
      "iteration 2, x2 = 2.750000 and f(x2)= -1.953125\n",
      "iteration 3, x2 = 2.875000 and f(x2)= 0.388672\n",
      "iteration 4, x2 = 2.812500 and f(x2)= -0.815186\n",
      "iteration 5, x2 = 2.843750 and f(x2)= -0.221588\n",
      "iteration 6, x2 = 2.859375 and f(x2)= 0.081448\n",
      "root is :2.85937500 \n"
     ]
    }
   ],
   "source": [
    "# guess1 = 2, guess2 = 3\n",
    "from math import sin\n",
    "def bisection(x0,x1,e): \n",
    "    step = 1\n",
    "    condition = True\n",
    "    while condition:\n",
    "        x2 = (x0+x1)/2\n",
    "        print('iteration %d, x2 = %0.6f and f(x2)= %0.6f' %(step,x2,f(x2)))\n",
    "        \n",
    "        if f(x0) * f(x2) < 0:\n",
    "            x1 = x2\n",
    "        else:\n",
    "            x0 = x2\n",
    "        step = step +1\n",
    "        condition = abs(f(x2)) > e\n",
    "    print('root is :%0.8f '%x2)\n",
    "#    return x2\n",
    "\n",
    "def f(x):\n",
    "    return 2x*2-5x+3=0\n",
    "\n",
    "x0 = float(input('first guess: '))\n",
    "x1 = float(input('second guess: '))\n",
    "e  = float(input('tolerance: '))\n",
    "\n",
    "if f(x0) * f(x1) > 0.0:\n",
    "    print('given guess values do not bracket the root')\n",
    "else:\n",
    "    root = bisection(x0,x1,e)"
   ]
  },
  {
   "cell_type": "code",
   "execution_count": 17,
   "id": "4d3a1e63",
   "metadata": {},
   "outputs": [
    {
     "name": "stdout",
     "output_type": "stream",
     "text": [
      "the root is 1.500 at 7 iterations.\n"
     ]
    }
   ],
   "source": [
    "# defining newton raphson method\n",
    "#iterations\n",
    "from math import sin\n",
    "def newton(fn,dfn,x,tol,maxiter):\n",
    "    for i in range(maxiter):\n",
    "        xnew = x - fn(x)/dfn(x)\n",
    "        if abs(xnew-x)<tol:                          \n",
    "            break\n",
    "        x = xnew\n",
    "    return xnew, i\n",
    "\n",
    "y = lambda x: 2*x**3-9.5*x+7.5\n",
    "dy = lambda x : 6*x**2-9.5\n",
    "\n",
    "x, n = newton(y, dy, 5, 0.0001, 100)\n",
    "print('the root is %.3f at %d iterations.'%(x,n))\n"
   ]
  },
  {
   "cell_type": "code",
   "execution_count": 18,
   "id": "b81442d1",
   "metadata": {},
   "outputs": [
    {
     "name": "stdout",
     "output_type": "stream",
     "text": [
      "the root is 2.855 at 5 iterations.\n"
     ]
    }
   ],
   "source": [
    "from math import sin\n",
    "def newton(fn,dfn,x,tol,maxiter):\n",
    "    for i in range(maxiter):\n",
    "        xnew = x - fn(x)/dfn(x)\n",
    "        if abs(xnew-x)<tol:                          \n",
    "            break\n",
    "        x = xnew\n",
    "    return xnew, i\n",
    "\n",
    "y = lambda x: x**3-5*x-9\n",
    "dy = lambda x :3*x**2-5 \n",
    "\n",
    "x, n = newton(y, dy, 5, 0.0001, 100)\n",
    "print('the root is %.3f at %d iterations.'%(x,n))\n"
   ]
  },
  {
   "cell_type": "code",
   "execution_count": 20,
   "id": "045b439d",
   "metadata": {},
   "outputs": [
    {
     "name": "stdout",
     "output_type": "stream",
     "text": [
      "the root is 1.500 at 7 iterations.\n"
     ]
    }
   ],
   "source": [
    "from math import sin\n",
    "def newton(fn,dfn,x,tol,maxiter):\n",
    "    for i in range(maxiter):\n",
    "        xnew = x - fn(x)/dfn(x)\n",
    "        if abs(xnew-x)<tol:                          \n",
    "            break\n",
    "        x = xnew\n",
    "    return xnew, i\n",
    "\n",
    "y = lambda x: x*2-sin*2(x)-4x+1=0\n",
    "dy = lambda x : 2x-2sinxcosx-4=0\n",
    "\n",
    "x, n = newton(y, dy, 5, 0.0001, 100)\n",
    "print('the root is %.3f at %d iterations.'%(x,n))\n"
   ]
  },
  {
   "cell_type": "code",
   "execution_count": 26,
   "id": "606bb1d6",
   "metadata": {},
   "outputs": [
    {
     "name": "stdout",
     "output_type": "stream",
     "text": [
      "the root is 2.855 at 5 iterations.\n"
     ]
    }
   ],
   "source": [
    "from math import sin\n",
    "def newton(fn,dfn,x,tol,maxiter):\n",
    "    for i in range(maxiter):\n",
    "        xnew = x - fn(x)/dfn(x)\n",
    "        if abs(xnew-x)<tol:                          \n",
    "            break\n",
    "        x = xnew\n",
    "    return xnew, i\n",
    "\n",
    "y = lambda x: x**3-5*x-9 \n",
    "dy = lambda x: 3*x**2-5\n",
    "\n",
    "x, n = newton(y, dy, 5, 0.0001, 100)\n",
    "print('the root is %.3f at %d iterations.'%(x,n))\n"
   ]
  },
  {
   "cell_type": "code",
   "execution_count": 23,
   "id": "8738c7dd",
   "metadata": {},
   "outputs": [
    {
     "name": "stdout",
     "output_type": "stream",
     "text": [
      "enter x1: 0\n",
      "enter x2: 1\n",
      "The root = 0.250324 at 4 false position\n"
     ]
    }
   ],
   "source": [
    "from math import sin\n",
    "def reg_falsi(f,x1,x2,tol=1.0e-6,maxfpos=100):\n",
    "    \n",
    "    if f(x1) * f(x2)<0:\n",
    "        for fpos in range(1,maxfpos+1):\n",
    "            xh = x2 - (x2-x1)/(f(x2)-f(x1)) * f(x2)\n",
    "            if abs(f(xh)) < tol:\n",
    "                break\n",
    "            elif f(x1) * f(xh) < 0:\n",
    "                x2 = xh\n",
    "            else:\n",
    "                x1 = xh\n",
    "    else:\n",
    "        print('No roots exists within the given interval')\n",
    "        \n",
    "    return xh, fpos\n",
    "\n",
    "y = lambda x: x**2 - sin(x)**2 - 4*x + 1\n",
    "\n",
    "x1 = float(input('enter x1: '))\n",
    "x2 = float(input('enter x2: '))\n",
    "\n",
    "r, n = reg_falsi(y,x1,x2)\n",
    "print('The root = %f at %d false position'%(r,n))"
   ]
  },
  {
   "cell_type": "code",
   "execution_count": 27,
   "id": "ee76f2ae",
   "metadata": {},
   "outputs": [
    {
     "name": "stdout",
     "output_type": "stream",
     "text": [
      "the root is 2.855 at 5 iterations.\n"
     ]
    }
   ],
   "source": [
    "from math import sin\n",
    "def newton(fn,dfn,x,tol,maxiter):\n",
    "    for i in range(maxiter):\n",
    "        xnew = x - fn(x)/dfn(x)\n",
    "        if abs(xnew-x)<tol:                          \n",
    "            break\n",
    "        x = xnew\n",
    "    return xnew, i\n",
    "\n",
    "y = lambda x: x**3-5*x-9 \n",
    "dy = lambda x: 3*x**2-5\n",
    "\n",
    "x, n = newton(y, dy, 5, 0.0001, 100)\n",
    "print('the root is %.3f at %d iterations.'%(x,n))"
   ]
  },
  {
   "cell_type": "code",
   "execution_count": null,
   "id": "76f9e68a",
   "metadata": {},
   "outputs": [],
   "source": []
  }
 ],
 "metadata": {
  "kernelspec": {
   "display_name": "Python 3 (ipykernel)",
   "language": "python",
   "name": "python3"
  },
  "language_info": {
   "codemirror_mode": {
    "name": "ipython",
    "version": 3
   },
   "file_extension": ".py",
   "mimetype": "text/x-python",
   "name": "python",
   "nbconvert_exporter": "python",
   "pygments_lexer": "ipython3",
   "version": "3.9.7"
  }
 },
 "nbformat": 4,
 "nbformat_minor": 5
}
